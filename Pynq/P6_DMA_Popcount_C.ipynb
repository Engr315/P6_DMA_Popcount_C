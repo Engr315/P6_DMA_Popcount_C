{
 "cells": [
  {
   "cell_type": "markdown",
   "metadata": {
    "slideshow": {
     "slide_type": "fragment"
    }
   },
   "source": [
    "## Project 4 - Popcount\n",
    "\n",
    "Version: 2021.1\n",
    " "
   ]
  },
  {
   "cell_type": "code",
   "execution_count": null,
   "metadata": {},
   "outputs": [],
   "source": [
    "import importlib\n",
    "import numpy as np\n",
    "import time\n",
    "import os"
   ]
  },
  {
   "cell_type": "code",
   "execution_count": null,
   "metadata": {},
   "outputs": [],
   "source": [
    "def countInt(n):        \n",
    "    w = 0\n",
    "    while (n):\n",
    "        w += 1\n",
    "        n &= n - 1\n",
    "    return w\n",
    "         \n",
    "def countArray (buf):\n",
    "    total_ones = 0\n",
    "    for b in buf:\n",
    "        total_ones += countInt(b)\n",
    "    return total_ones\n",
    "        \n",
    "def countFile(file):\n",
    "    f = open(file, \"r\")\n",
    "    buf = np.fromfile(f, dtype=np.uint32)\n",
    "    return countArray(buf)        \n",
    "    "
   ]
  },
  {
   "cell_type": "code",
   "execution_count": null,
   "metadata": {},
   "outputs": [],
   "source": [
    "input_files_path = os.getcwd()+'/data/'\n",
    "names = os.listdir(input_files_path)\n",
    "input_files = os.listdir(input_files_path)\n",
    "for i in range(len(input_files)):\n",
    "    input_files[i] = input_files_path + input_files[i]\n",
    "input_files.sort(key=lambda x: os.path.getsize(x))\n",
    "names.sort(key=lambda x: os.path.getsize(\"data/\"+x))"
   ]
  },
  {
   "cell_type": "markdown",
   "metadata": {},
   "source": [
    "# You will need to impliment MyHardwarePopcount!\n",
    "\n",
    "(It can be found in the 'MyHardwarePopcount.py')"
   ]
  },
  {
   "cell_type": "code",
   "execution_count": null,
   "metadata": {},
   "outputs": [],
   "source": [
    "from Python import MyHardwarePopcount\n",
    "importlib.reload(MyHardwarePopcount)\n",
    "\n",
    "hw_counter = MyHardwarePopcount.MyHardwarePopcount()"
   ]
  },
  {
   "cell_type": "code",
   "execution_count": null,
   "metadata": {},
   "outputs": [],
   "source": [
    "\n",
    "def time_test(files, function, names, print_counts = True):\n",
    "    i = 0\n",
    "    results = []\n",
    "    for file in files: \n",
    "        print(\"Timeing '\"+names[i]+\"'\")\n",
    "        start = time.time()\n",
    "        count = function(file)\n",
    "        end = time.time()\n",
    "        t = end - start\n",
    "        results += [t]\n",
    "        print(\"Filename:\",file)\n",
    "        if print_counts:\n",
    "            print(\"Counted\",count,\"ones in\",t,\"seconds\") \n",
    "        print(\"Total Time:\", t)\n",
    "        print()\n",
    "        i+=1\n",
    "    return results"
   ]
  },
  {
   "cell_type": "code",
   "execution_count": null,
   "metadata": {},
   "outputs": [],
   "source": [
    "def C_software_popcount(file):\n",
    "    os.system(\"./C/software \"+file)\n",
    "    return\n",
    "def C_hardware_popcount(file):\n",
    "    os.system(\"./C/user_mmio \"+file)\n",
    "    return\n",
    "def C_DMA(file):\n",
    "    os.system(\"./C/user_dma \"+file)\n",
    "    return"
   ]
  },
  {
   "cell_type": "code",
   "execution_count": null,
   "metadata": {},
   "outputs": [],
   "source": [
    "time_test(input_files[:5], countFile, names) # test python software implementation"
   ]
  },
  {
   "cell_type": "code",
   "execution_count": null,
   "metadata": {},
   "outputs": [],
   "source": [
    "time_test(input_files, hw_counter.countFile, names) # test python hardware implementation"
   ]
  },
  {
   "cell_type": "code",
   "execution_count": null,
   "metadata": {},
   "outputs": [],
   "source": [
    "time_test(input_files, C_software_popcount, names, print_counts = False) # test C software implementation"
   ]
  },
  {
   "cell_type": "code",
   "execution_count": null,
   "metadata": {},
   "outputs": [],
   "source": [
    "# check our counts\n",
    "!./C/software data/ones.bin\n",
    "!./C/software data/zeros.bin\n",
    "!./C/software data/tiny.bin\n",
    "!./C/software data/small.bin\n",
    "!./C/software data/medium.bin\n",
    "!./C/software data/large.bin"
   ]
  },
  {
   "cell_type": "code",
   "execution_count": null,
   "metadata": {},
   "outputs": [],
   "source": [
    "# check our counts\n",
    "!./C/user_mmio data/ones.bin\n",
    "!./C/user_mmio data/zeros.bin\n",
    "!./C/user_mmio data/tiny.bin\n",
    "!./C/user_mmio data/small.bin\n",
    "!./C/user_mmio data/medium.bin\n",
    "!./C/user_mmio data/large.bin"
   ]
  },
  {
   "cell_type": "code",
   "execution_count": null,
   "metadata": {
    "scrolled": false
   },
   "outputs": [],
   "source": [
    "time_test(input_files, C_hardware_popcount, names, print_counts = False) # test C software implementation"
   ]
  },
  {
   "cell_type": "markdown",
   "metadata": {},
   "source": [
    "# You will need to impliment DMA tx in C!\n",
    "\n",
    "(It can be found in the 'C/user_dma.c')"
   ]
  },
  {
   "cell_type": "code",
   "execution_count": null,
   "metadata": {},
   "outputs": [],
   "source": [
    "%cd \"setup/\""
   ]
  },
  {
   "cell_type": "code",
   "execution_count": null,
   "metadata": {},
   "outputs": [],
   "source": [
    "!rm -rf udmabuf-master\n",
    "!./setup.sh\n",
    "!./load_bitstream.sh"
   ]
  },
  {
   "cell_type": "code",
   "execution_count": null,
   "metadata": {},
   "outputs": [],
   "source": [
    "%cd \"..\""
   ]
  },
  {
   "cell_type": "code",
   "execution_count": null,
   "metadata": {},
   "outputs": [],
   "source": [
    "time_test(input_files, C_DMA, names, print_counts = False) # test C software implementation"
   ]
  },
  {
   "cell_type": "code",
   "execution_count": null,
   "metadata": {},
   "outputs": [],
   "source": [
    "!./C/user_dma data/ones.bin\n",
    "!./C/user_dma data/zeros.bin\n",
    "!./C/user_dma data/tiny.bin\n",
    "!./C/user_dma data/small.bin\n",
    "!./C/user_dma data/medium.bin\n",
    "!./C/user_dma data/large.bin"
   ]
  }
 ],
 "metadata": {
  "kernelspec": {
   "display_name": "Python 3",
   "language": "python",
   "name": "python3"
  },
  "language_info": {
   "codemirror_mode": {
    "name": "ipython",
    "version": 3
   },
   "file_extension": ".py",
   "mimetype": "text/x-python",
   "name": "python",
   "nbconvert_exporter": "python",
   "pygments_lexer": "ipython3",
   "version": "3.6.5"
  }
 },
 "nbformat": 4,
 "nbformat_minor": 2
}
